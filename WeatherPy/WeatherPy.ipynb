{
 "cells": [
  {
   "cell_type": "markdown",
   "metadata": {},
   "source": [
    "# WeatherPy\n",
    "----\n",
    "\n",
    "#### Note\n",
    "* Instructions have been included for each segment. You do not have to follow them exactly, but they are included to help you think through the steps."
   ]
  },
  {
   "cell_type": "code",
   "execution_count": 49,
   "metadata": {
    "scrolled": true
   },
   "outputs": [],
   "source": [
    "# Dependencies and Setup\n",
    "import matplotlib.pyplot as plt\n",
    "import pandas as pd\n",
    "import numpy as np\n",
    "import requests\n",
    "import time\n",
    "from scipy.stats import linregress\n",
    "\n",
    "# Import API key\n",
    "from api_keys import weather_api_key\n",
    "\n",
    "# Incorporated citipy to determine city based on latitude and longitude\n",
    "from citipy import citipy\n",
    "\n",
    "# Output File (CSV)\n",
    "output_data_file = \"../output_data/cities.csv\"\n",
    "\n",
    "# Range of latitudes and longitudes\n",
    "lat_range = (-90, 90)\n",
    "lng_range = (-180, 180)"
   ]
  },
  {
   "cell_type": "markdown",
   "metadata": {},
   "source": [
    "## Generate Cities List"
   ]
  },
  {
   "cell_type": "code",
   "execution_count": 2,
   "metadata": {},
   "outputs": [
    {
     "data": {
      "text/plain": [
       "601"
      ]
     },
     "execution_count": 2,
     "metadata": {},
     "output_type": "execute_result"
    }
   ],
   "source": [
    "# List for holding lat_lngs and cities\n",
    "lat_lngs = []\n",
    "cities = []\n",
    "\n",
    "# Create a set of random lat and lng combinations\n",
    "lats = np.random.uniform(lat_range[0], lat_range[1], size=1500)\n",
    "lngs = np.random.uniform(lng_range[0], lng_range[1], size=1500)\n",
    "lat_lngs = zip(lats, lngs)\n",
    "\n",
    "# Identify nearest city for each lat, lng combination\n",
    "for lat_lng in lat_lngs:\n",
    "    city = citipy.nearest_city(lat_lng[0], lat_lng[1]).city_name\n",
    "    \n",
    "    # If the city is unique, then add it to a our cities list\n",
    "    if city not in cities:\n",
    "        cities.append(city)\n",
    "\n",
    "# Print the city count to confirm sufficient count\n",
    "len(cities)"
   ]
  },
  {
   "cell_type": "markdown",
   "metadata": {},
   "source": [
    "### Perform API Calls\n",
    "* Perform a weather check on each city using a series of successive API calls.\n",
    "* Include a print log of each city as it'sbeing processed (with the city number and city name).\n"
   ]
  },
  {
   "cell_type": "code",
   "execution_count": 6,
   "metadata": {
    "scrolled": true
   },
   "outputs": [
    {
     "name": "stdout",
     "output_type": "stream",
     "text": [
      "-----------------------------\n",
      "Beginning Data Retrieval\n",
      "Processing Record 1 of Set 1 | okhotsk\n",
      "City not found. Skipping...\n",
      "Processing Record 2 of Set 1 | portland\n",
      "Processing Record 3 of Set 1 | port alfred\n",
      "Processing Record 4 of Set 1 | vaini\n",
      "Processing Record 5 of Set 1 | butaritari\n",
      "Processing Record 6 of Set 1 | constitucion\n",
      "Processing Record 7 of Set 1 | bredasdorp\n",
      "Processing Record 8 of Set 1 | thompson\n",
      "Processing Record 9 of Set 1 | bluff\n",
      "City not found. Skipping...\n",
      "Processing Record 10 of Set 1 | yellowknife\n",
      "Processing Record 11 of Set 1 | mayumba\n",
      "Processing Record 12 of Set 1 | rikitea\n",
      "Processing Record 13 of Set 1 | ancud\n",
      "Processing Record 14 of Set 1 | bambous virieux\n",
      "Processing Record 15 of Set 1 | new norfolk\n",
      "Processing Record 16 of Set 1 | port elizabeth\n",
      "Processing Record 17 of Set 1 | jamestown\n",
      "Processing Record 18 of Set 1 | saint-augustin\n",
      "Processing Record 19 of Set 1 | ushuaia\n",
      "Processing Record 20 of Set 1 | ribeira grande\n",
      "Processing Record 21 of Set 1 | sao jose da coroa grande\n",
      "Processing Record 22 of Set 1 | namatanai\n",
      "Processing Record 23 of Set 1 | torbay\n",
      "Processing Record 24 of Set 1 | east london\n",
      "Processing Record 25 of Set 1 | itarema\n",
      "Processing Record 26 of Set 1 | busselton\n",
      "Processing Record 27 of Set 1 | labuhan\n",
      "Processing Record 28 of Set 1 | saquarema\n",
      "Processing Record 29 of Set 1 | san cristobal\n",
      "Processing Record 30 of Set 1 | nantucket\n",
      "Processing Record 31 of Set 1 | nikolskoye\n",
      "City not found. Skipping...\n",
      "Processing Record 32 of Set 1 | kletskaya\n",
      "Processing Record 33 of Set 1 | mugur-aksy\n",
      "Processing Record 34 of Set 1 | bethel\n",
      "Processing Record 35 of Set 1 | makat\n",
      "Processing Record 36 of Set 1 | albany\n",
      "Processing Record 37 of Set 1 | port moresby\n",
      "Processing Record 38 of Set 1 | bengkulu\n",
      "Processing Record 39 of Set 1 | kahului\n",
      "Processing Record 40 of Set 1 | hobart\n",
      "Processing Record 41 of Set 1 | ponta do sol\n",
      "Processing Record 42 of Set 1 | nuevo progreso\n",
      "Processing Record 43 of Set 1 | palencia\n",
      "Processing Record 44 of Set 1 | uribia\n",
      "Processing Record 45 of Set 1 | chokurdakh\n",
      "Processing Record 46 of Set 1 | mhlume\n",
      "Processing Record 47 of Set 1 | airai\n",
      "Processing Record 48 of Set 1 | cherskiy\n",
      "Processing Record 49 of Set 1 | talcahuano\n",
      "Processing Record 50 of Set 1 | nouakchott\n",
      "Processing Record 0 of Set 2 | atuona\n",
      "Processing Record 1 of Set 2 | tezu\n",
      "Processing Record 2 of Set 2 | kapaa\n",
      "Processing Record 3 of Set 2 | coquimbo\n",
      "Processing Record 4 of Set 2 | dongli\n",
      "Processing Record 5 of Set 2 | hermanus\n",
      "Processing Record 6 of Set 2 | litovko\n",
      "City not found. Skipping...\n",
      "Processing Record 7 of Set 2 | yen bai\n",
      "City not found. Skipping...\n",
      "Processing Record 8 of Set 2 | amberley\n",
      "Processing Record 9 of Set 2 | talnakh\n",
      "Processing Record 10 of Set 2 | upernavik\n",
      "Processing Record 11 of Set 2 | tiksi\n",
      "Processing Record 12 of Set 2 | kavieng\n",
      "Processing Record 13 of Set 2 | sidi ali\n",
      "City not found. Skipping...\n",
      "Processing Record 14 of Set 2 | buchach\n",
      "Processing Record 15 of Set 2 | felanitx\n",
      "Processing Record 16 of Set 2 | carnarvon\n",
      "Processing Record 17 of Set 2 | saskylakh\n",
      "Processing Record 18 of Set 2 | mezen\n",
      "Processing Record 19 of Set 2 | la ronge\n",
      "City not found. Skipping...\n",
      "Processing Record 20 of Set 2 | poum\n",
      "Processing Record 21 of Set 2 | sioux lookout\n",
      "Processing Record 22 of Set 2 | pemba\n",
      "Processing Record 23 of Set 2 | barrow\n",
      "Processing Record 24 of Set 2 | marawi\n",
      "Processing Record 25 of Set 2 | robertsport\n",
      "Processing Record 26 of Set 2 | mount gambier\n",
      "Processing Record 27 of Set 2 | punta arenas\n",
      "Processing Record 28 of Set 2 | lata\n",
      "Processing Record 29 of Set 2 | abha\n",
      "Processing Record 30 of Set 2 | alexandria\n",
      "Processing Record 31 of Set 2 | codrington\n",
      "Processing Record 32 of Set 2 | cabo san lucas\n",
      "Processing Record 33 of Set 2 | qaanaaq\n",
      "Processing Record 34 of Set 2 | areka\n",
      "Processing Record 35 of Set 2 | ust-ilimsk\n",
      "Processing Record 36 of Set 2 | mataura\n",
      "City not found. Skipping...\n",
      "Processing Record 37 of Set 2 | muzambinho\n",
      "City not found. Skipping...\n",
      "Processing Record 38 of Set 2 | kislovodsk\n",
      "Processing Record 39 of Set 2 | laguna\n",
      "Processing Record 40 of Set 2 | holden\n",
      "Processing Record 41 of Set 2 | avarua\n",
      "Processing Record 42 of Set 2 | veraval\n",
      "Processing Record 43 of Set 2 | san patricio\n",
      "Processing Record 44 of Set 2 | kango\n",
      "City not found. Skipping...\n",
      "Processing Record 45 of Set 2 | paragominas\n",
      "City not found. Skipping...\n",
      "Processing Record 46 of Set 2 | samtredia\n",
      "City not found. Skipping...\n",
      "Processing Record 47 of Set 2 | castro\n",
      "Processing Record 48 of Set 2 | nuuk\n",
      "Processing Record 49 of Set 2 | taoudenni\n",
      "Processing Record 50 of Set 2 | katherine\n",
      "Processing Record 0 of Set 3 | jhudo\n",
      "Processing Record 1 of Set 3 | faanui\n",
      "City not found. Skipping...\n",
      "Processing Record 2 of Set 3 | pangody\n",
      "Processing Record 3 of Set 3 | jalu\n",
      "Processing Record 4 of Set 3 | whitehorse\n",
      "Processing Record 5 of Set 3 | hastings\n",
      "Processing Record 6 of Set 3 | saint george\n",
      "Processing Record 7 of Set 3 | tromso\n",
      "Processing Record 8 of Set 3 | pangai\n",
      "Processing Record 9 of Set 3 | iqaluit\n",
      "City not found. Skipping...\n",
      "Processing Record 10 of Set 3 | verkhnyaya inta\n",
      "Processing Record 11 of Set 3 | otane\n",
      "Processing Record 12 of Set 3 | rapid city\n",
      "Processing Record 13 of Set 3 | vardo\n",
      "Processing Record 14 of Set 3 | takhatpur\n",
      "Processing Record 15 of Set 3 | hilo\n",
      "Processing Record 16 of Set 3 | san andres\n",
      "Processing Record 17 of Set 3 | chumikan\n",
      "Processing Record 18 of Set 3 | basoko\n",
      "Processing Record 19 of Set 3 | maragogi\n",
      "Processing Record 20 of Set 3 | tasiilaq\n",
      "City not found. Skipping...\n",
      "Processing Record 21 of Set 3 | provideniya\n",
      "Processing Record 22 of Set 3 | tobe\n",
      "Processing Record 23 of Set 3 | larsnes\n",
      "Processing Record 24 of Set 3 | mana\n",
      "City not found. Skipping...\n",
      "Processing Record 25 of Set 3 | krasnoselkup\n",
      "Processing Record 26 of Set 3 | estevan\n",
      "Processing Record 27 of Set 3 | sint-genesius-rode\n",
      "Processing Record 28 of Set 3 | korla\n",
      "Processing Record 29 of Set 3 | payo\n",
      "Processing Record 30 of Set 3 | kyaukse\n",
      "Processing Record 31 of Set 3 | oktyabrskoye\n",
      "Processing Record 32 of Set 3 | coolum beach\n",
      "Processing Record 33 of Set 3 | leh\n",
      "Processing Record 34 of Set 3 | cape town\n",
      "Processing Record 35 of Set 3 | kaitangata\n",
      "Processing Record 36 of Set 3 | turka\n",
      "Processing Record 37 of Set 3 | alaca\n",
      "Processing Record 38 of Set 3 | brigantine\n",
      "Processing Record 39 of Set 3 | tuktoyaktuk\n",
      "Processing Record 40 of Set 3 | saint-philippe\n",
      "Processing Record 41 of Set 3 | sitka\n",
      "Processing Record 42 of Set 3 | warrington\n",
      "Processing Record 43 of Set 3 | aljezur\n",
      "Processing Record 44 of Set 3 | baykit\n",
      "Processing Record 45 of Set 3 | mount isa\n",
      "Processing Record 46 of Set 3 | isangel\n",
      "City not found. Skipping...\n",
      "City not found. Skipping...\n",
      "Processing Record 47 of Set 3 | yeppoon\n",
      "Processing Record 48 of Set 3 | souillac\n",
      "Processing Record 49 of Set 3 | tessalit\n",
      "Processing Record 50 of Set 3 | nanortalik\n",
      "Processing Record 0 of Set 4 | vestmanna\n",
      "Processing Record 1 of Set 4 | kruisfontein\n",
      "Processing Record 2 of Set 4 | nemuro\n",
      "City not found. Skipping...\n",
      "Processing Record 3 of Set 4 | victoria\n",
      "Processing Record 4 of Set 4 | bathsheba\n",
      "Processing Record 5 of Set 4 | mopipi\n",
      "Processing Record 6 of Set 4 | anadyr\n",
      "City not found. Skipping...\n",
      "Processing Record 7 of Set 4 | tuatapere\n",
      "Processing Record 8 of Set 4 | aswan\n",
      "Processing Record 9 of Set 4 | tautira\n",
      "Processing Record 10 of Set 4 | clyde river\n",
      "Processing Record 11 of Set 4 | dalmatovo\n",
      "Processing Record 12 of Set 4 | seoul\n",
      "Processing Record 13 of Set 4 | berbera\n",
      "Processing Record 14 of Set 4 | ballina\n",
      "City not found. Skipping...\n",
      "Processing Record 15 of Set 4 | pevek\n",
      "Processing Record 16 of Set 4 | kijang\n",
      "Processing Record 17 of Set 4 | husavik\n",
      "Processing Record 18 of Set 4 | luangwa\n",
      "Processing Record 19 of Set 4 | kiama\n",
      "Processing Record 20 of Set 4 | londoko\n",
      "Processing Record 21 of Set 4 | abalak\n",
      "Processing Record 22 of Set 4 | aklavik\n",
      "Processing Record 23 of Set 4 | longyearbyen\n",
      "City not found. Skipping...\n",
      "Processing Record 24 of Set 4 | dikson\n",
      "Processing Record 25 of Set 4 | dingle\n",
      "City not found. Skipping...\n",
      "Processing Record 26 of Set 4 | rio grande\n",
      "Processing Record 27 of Set 4 | kununurra\n",
      "Processing Record 28 of Set 4 | chuy\n",
      "Processing Record 29 of Set 4 | lebu\n",
      "Processing Record 30 of Set 4 | bazarnyye mataki\n",
      "Processing Record 31 of Set 4 | embonas\n"
     ]
    },
    {
     "name": "stdout",
     "output_type": "stream",
     "text": [
      "Processing Record 32 of Set 4 | dudinka\n",
      "Processing Record 33 of Set 4 | sao filipe\n",
      "Processing Record 34 of Set 4 | burnie\n",
      "Processing Record 35 of Set 4 | hamilton\n",
      "Processing Record 36 of Set 4 | yerofey pavlovich\n",
      "Processing Record 37 of Set 4 | high level\n",
      "Processing Record 38 of Set 4 | ahipara\n",
      "Processing Record 39 of Set 4 | zheleznodorozhnyy\n",
      "Processing Record 40 of Set 4 | hirado\n",
      "Processing Record 41 of Set 4 | zorritos\n",
      "Processing Record 42 of Set 4 | plaster rock\n",
      "Processing Record 43 of Set 4 | buta\n",
      "City not found. Skipping...\n",
      "Processing Record 44 of Set 4 | archidona\n",
      "Processing Record 45 of Set 4 | kalmunai\n",
      "Processing Record 46 of Set 4 | beohari\n",
      "Processing Record 47 of Set 4 | valparaiso\n",
      "Processing Record 48 of Set 4 | palmer\n",
      "Processing Record 49 of Set 4 | hay river\n",
      "Processing Record 50 of Set 4 | khakhea\n",
      "Processing Record 0 of Set 5 | saint-francois\n",
      "Processing Record 1 of Set 5 | narsaq\n",
      "Processing Record 2 of Set 5 | boa vista\n",
      "Processing Record 3 of Set 5 | kysyl-syr\n",
      "Processing Record 4 of Set 5 | gorin\n",
      "Processing Record 5 of Set 5 | porto novo\n",
      "Processing Record 6 of Set 5 | bonavista\n",
      "Processing Record 7 of Set 5 | salalah\n",
      "Processing Record 8 of Set 5 | sinnamary\n",
      "Processing Record 9 of Set 5 | necochea\n",
      "Processing Record 10 of Set 5 | englehart\n",
      "Processing Record 11 of Set 5 | aksu\n",
      "Processing Record 12 of Set 5 | fredericia\n",
      "Processing Record 13 of Set 5 | tilichiki\n",
      "Processing Record 14 of Set 5 | samarai\n",
      "Processing Record 15 of Set 5 | dakar\n",
      "Processing Record 16 of Set 5 | brazzaville\n",
      "Processing Record 17 of Set 5 | ambunti\n",
      "Processing Record 18 of Set 5 | oeiras do para\n",
      "Processing Record 19 of Set 5 | tadine\n",
      "Processing Record 20 of Set 5 | saint-georges\n",
      "Processing Record 21 of Set 5 | man\n",
      "Processing Record 22 of Set 5 | diego de almagro\n",
      "Processing Record 23 of Set 5 | daru\n",
      "Processing Record 24 of Set 5 | arraial do cabo\n",
      "Processing Record 25 of Set 5 | kavaratti\n",
      "Processing Record 26 of Set 5 | vila velha\n",
      "Processing Record 27 of Set 5 | kisangani\n",
      "Processing Record 28 of Set 5 | erzin\n",
      "Processing Record 29 of Set 5 | yenagoa\n",
      "Processing Record 30 of Set 5 | berlevag\n",
      "Processing Record 31 of Set 5 | quatre cocos\n",
      "Processing Record 32 of Set 5 | pandharpur\n",
      "Processing Record 33 of Set 5 | shimoda\n",
      "Processing Record 34 of Set 5 | ixtapa\n",
      "Processing Record 35 of Set 5 | totoral\n",
      "Processing Record 36 of Set 5 | mehamn\n",
      "Processing Record 37 of Set 5 | severo-kurilsk\n",
      "Processing Record 38 of Set 5 | victoria point\n",
      "Processing Record 39 of Set 5 | deputatskiy\n",
      "City not found. Skipping...\n",
      "Processing Record 40 of Set 5 | shingu\n",
      "Processing Record 41 of Set 5 | tulum\n",
      "Processing Record 42 of Set 5 | cockburn town\n",
      "Processing Record 43 of Set 5 | camargo\n",
      "Processing Record 44 of Set 5 | harbour breton\n",
      "Processing Record 45 of Set 5 | vanimo\n",
      "Processing Record 46 of Set 5 | lavrentiya\n",
      "Processing Record 47 of Set 5 | saquena\n",
      "Processing Record 48 of Set 5 | ngunguru\n",
      "Processing Record 49 of Set 5 | puerto ayora\n",
      "Processing Record 50 of Set 5 | sfintesti\n",
      "Processing Record 0 of Set 6 | batouri\n",
      "Processing Record 1 of Set 6 | klaksvik\n",
      "Processing Record 2 of Set 6 | ayacucho\n",
      "Processing Record 3 of Set 6 | beisfjord\n",
      "Processing Record 4 of Set 6 | fayaoue\n",
      "City not found. Skipping...\n",
      "Processing Record 5 of Set 6 | bridgetown\n",
      "Processing Record 6 of Set 6 | karratha\n",
      "Processing Record 7 of Set 6 | lompoc\n",
      "Processing Record 8 of Set 6 | hasaki\n",
      "Processing Record 9 of Set 6 | los llanos de aridane\n",
      "Processing Record 10 of Set 6 | porto walter\n",
      "Processing Record 11 of Set 6 | blumenau\n",
      "Processing Record 12 of Set 6 | adrar\n",
      "Processing Record 13 of Set 6 | port lincoln\n",
      "Processing Record 14 of Set 6 | luderitz\n",
      "Processing Record 15 of Set 6 | cabedelo\n",
      "Processing Record 16 of Set 6 | kursavka\n",
      "Processing Record 17 of Set 6 | hami\n",
      "Processing Record 18 of Set 6 | ust-tsilma\n",
      "Processing Record 19 of Set 6 | mar del plata\n",
      "Processing Record 20 of Set 6 | kalga\n",
      "Processing Record 21 of Set 6 | nadym\n",
      "Processing Record 22 of Set 6 | mareeba\n",
      "Processing Record 23 of Set 6 | rundu\n",
      "Processing Record 24 of Set 6 | jieshi\n",
      "Processing Record 25 of Set 6 | lingao\n",
      "Processing Record 26 of Set 6 | sept-iles\n",
      "Processing Record 27 of Set 6 | nyrob\n",
      "Processing Record 28 of Set 6 | denpasar\n",
      "Processing Record 29 of Set 6 | kiryas joel\n",
      "Processing Record 30 of Set 6 | skjervoy\n",
      "Processing Record 31 of Set 6 | alta floresta\n",
      "Processing Record 32 of Set 6 | havoysund\n",
      "Processing Record 33 of Set 6 | port-gentil\n",
      "Processing Record 34 of Set 6 | phichit\n",
      "Processing Record 35 of Set 6 | geraldton\n",
      "City not found. Skipping...\n",
      "Processing Record 36 of Set 6 | walvis bay\n",
      "Processing Record 37 of Set 6 | weiden\n",
      "Processing Record 38 of Set 6 | arlit\n",
      "Processing Record 39 of Set 6 | saldanha\n",
      "Processing Record 40 of Set 6 | travesia\n",
      "Processing Record 41 of Set 6 | nakhon phanom\n",
      "Processing Record 42 of Set 6 | chalmette\n",
      "Processing Record 43 of Set 6 | pandan\n",
      "Processing Record 44 of Set 6 | bollnas\n",
      "Processing Record 45 of Set 6 | luganville\n",
      "Processing Record 46 of Set 6 | shebalino\n",
      "Processing Record 47 of Set 6 | ilulissat\n",
      "Processing Record 48 of Set 6 | padang\n",
      "Processing Record 49 of Set 6 | damaturu\n",
      "City not found. Skipping...\n",
      "Processing Record 50 of Set 6 | rudnaya pristan\n",
      "Processing Record 0 of Set 7 | grand-santi\n",
      "Processing Record 1 of Set 7 | buraydah\n",
      "Processing Record 2 of Set 7 | shubarkuduk\n",
      "City not found. Skipping...\n",
      "Processing Record 3 of Set 7 | nizhniy tsasuchey\n",
      "Processing Record 4 of Set 7 | ostrovnoy\n",
      "Processing Record 5 of Set 7 | yulara\n",
      "Processing Record 6 of Set 7 | myaundzha\n",
      "Processing Record 7 of Set 7 | aripuana\n",
      "Processing Record 8 of Set 7 | fortuna\n",
      "City not found. Skipping...\n",
      "Processing Record 9 of Set 7 | placerville\n",
      "Processing Record 10 of Set 7 | hambantota\n",
      "Processing Record 11 of Set 7 | port hardy\n",
      "Processing Record 12 of Set 7 | rocha\n",
      "Processing Record 13 of Set 7 | camacha\n",
      "Processing Record 14 of Set 7 | epinal\n",
      "Processing Record 15 of Set 7 | iracoubo\n",
      "Processing Record 16 of Set 7 | maceio\n",
      "Processing Record 17 of Set 7 | ucluelet\n",
      "Processing Record 18 of Set 7 | linda\n",
      "Processing Record 19 of Set 7 | kigali\n",
      "Processing Record 20 of Set 7 | mehran\n",
      "Processing Record 21 of Set 7 | gat\n",
      "Processing Record 22 of Set 7 | tres palos\n",
      "Processing Record 23 of Set 7 | richards bay\n",
      "Processing Record 24 of Set 7 | khatanga\n",
      "Processing Record 25 of Set 7 | shubarshi\n",
      "Processing Record 26 of Set 7 | acajutla\n",
      "City not found. Skipping...\n",
      "Processing Record 27 of Set 7 | boende\n",
      "Processing Record 28 of Set 7 | ust-nera\n",
      "Processing Record 29 of Set 7 | lagoa\n",
      "Processing Record 30 of Set 7 | hithadhoo\n",
      "Processing Record 31 of Set 7 | khilchipur\n",
      "Processing Record 32 of Set 7 | ilebo\n",
      "Processing Record 33 of Set 7 | cidreira\n",
      "Processing Record 34 of Set 7 | ormara\n",
      "Processing Record 35 of Set 7 | kieta\n",
      "Processing Record 36 of Set 7 | avera\n",
      "Processing Record 37 of Set 7 | naze\n",
      "Processing Record 38 of Set 7 | broken hill\n",
      "Processing Record 39 of Set 7 | beinamar\n",
      "Processing Record 40 of Set 7 | port hedland\n",
      "Processing Record 41 of Set 7 | altamira\n",
      "Processing Record 42 of Set 7 | srivardhan\n",
      "Processing Record 43 of Set 7 | tandil\n",
      "Processing Record 44 of Set 7 | brzeziny\n",
      "Processing Record 45 of Set 7 | basna\n",
      "Processing Record 46 of Set 7 | ambilobe\n",
      "Processing Record 47 of Set 7 | guerrero negro\n",
      "Processing Record 48 of Set 7 | zhigansk\n",
      "Processing Record 49 of Set 7 | goya\n",
      "Processing Record 50 of Set 7 | kamenka\n",
      "Processing Record 0 of Set 8 | vigeland\n",
      "Processing Record 1 of Set 8 | sobolevo\n",
      "Processing Record 2 of Set 8 | kyzyl-suu\n",
      "Processing Record 3 of Set 8 | okha\n",
      "Processing Record 4 of Set 8 | katsuura\n",
      "Processing Record 5 of Set 8 | mandalgovi\n",
      "Processing Record 6 of Set 8 | minolos\n",
      "Processing Record 7 of Set 8 | rawson\n",
      "Processing Record 8 of Set 8 | grand-lahou\n",
      "Processing Record 9 of Set 8 | kinsale\n",
      "Processing Record 10 of Set 8 | fontem\n",
      "Processing Record 11 of Set 8 | black forest\n",
      "Processing Record 12 of Set 8 | zinder\n",
      "Processing Record 13 of Set 8 | dondo\n",
      "Processing Record 14 of Set 8 | pedernales\n",
      "Processing Record 15 of Set 8 | iaciara\n",
      "Processing Record 16 of Set 8 | georgiyevka\n",
      "Processing Record 17 of Set 8 | west milford\n",
      "Processing Record 18 of Set 8 | benguela\n",
      "Processing Record 19 of Set 8 | asfi\n",
      "Processing Record 20 of Set 8 | mamallapuram\n",
      "Processing Record 21 of Set 8 | yiyang\n",
      "Processing Record 22 of Set 8 | isla vista\n"
     ]
    },
    {
     "name": "stdout",
     "output_type": "stream",
     "text": [
      "Processing Record 23 of Set 8 | jiaonan\n",
      "Processing Record 24 of Set 8 | moba\n",
      "Processing Record 25 of Set 8 | vao\n",
      "Processing Record 26 of Set 8 | turkistan\n",
      "Processing Record 27 of Set 8 | jamame\n",
      "Processing Record 28 of Set 8 | tukrah\n",
      "Processing Record 29 of Set 8 | novikovo\n",
      "Processing Record 30 of Set 8 | wagar\n",
      "Processing Record 31 of Set 8 | georgetown\n",
      "Processing Record 32 of Set 8 | castro-urdiales\n",
      "Processing Record 33 of Set 8 | nyandoma\n",
      "Processing Record 34 of Set 8 | muzhi\n",
      "Processing Record 35 of Set 8 | watertown\n",
      "Processing Record 36 of Set 8 | lantawan\n",
      "Processing Record 37 of Set 8 | fairbanks\n",
      "Processing Record 38 of Set 8 | tashtagol\n",
      "Processing Record 39 of Set 8 | kimbe\n",
      "Processing Record 40 of Set 8 | sur\n",
      "Processing Record 41 of Set 8 | kovur\n",
      "Processing Record 42 of Set 8 | dergachi\n",
      "Processing Record 43 of Set 8 | rockport\n",
      "Processing Record 44 of Set 8 | mahebourg\n",
      "Processing Record 45 of Set 8 | santa maria\n",
      "Processing Record 46 of Set 8 | kisanga\n",
      "Processing Record 47 of Set 8 | south river\n",
      "Processing Record 48 of Set 8 | tiparak\n",
      "Processing Record 49 of Set 8 | gayny\n",
      "Processing Record 50 of Set 8 | kansk\n",
      "Processing Record 0 of Set 9 | touros\n",
      "Processing Record 1 of Set 9 | asau\n",
      "Processing Record 2 of Set 9 | loa janan\n",
      "Processing Record 3 of Set 9 | yar-sale\n",
      "Processing Record 4 of Set 9 | fram\n",
      "Processing Record 5 of Set 9 | bandarbeyla\n",
      "Processing Record 6 of Set 9 | waipawa\n",
      "Processing Record 7 of Set 9 | pontes e lacerda\n",
      "Processing Record 8 of Set 9 | ati\n",
      "City not found. Skipping...\n",
      "Processing Record 9 of Set 9 | grindavik\n",
      "Processing Record 10 of Set 9 | sao joao da barra\n",
      "Processing Record 11 of Set 9 | kuliyapitiya\n",
      "Processing Record 12 of Set 9 | san luis\n",
      "Processing Record 13 of Set 9 | la arena\n",
      "Processing Record 14 of Set 9 | shurugwi\n",
      "Processing Record 15 of Set 9 | hervey bay\n",
      "Processing Record 16 of Set 9 | nome\n",
      "Processing Record 17 of Set 9 | riyadh\n",
      "Processing Record 18 of Set 9 | bani\n",
      "Processing Record 19 of Set 9 | mackenzie\n",
      "Processing Record 20 of Set 9 | atocha\n",
      "Processing Record 21 of Set 9 | san francisco del mar\n",
      "Processing Record 22 of Set 9 | kukuna\n",
      "Processing Record 23 of Set 9 | carutapera\n",
      "Processing Record 24 of Set 9 | champawat\n",
      "City not found. Skipping...\n",
      "City not found. Skipping...\n",
      "Processing Record 25 of Set 9 | ranong\n",
      "Processing Record 26 of Set 9 | puerto madryn\n",
      "Processing Record 27 of Set 9 | bairiki\n",
      "Processing Record 28 of Set 9 | maldonado\n",
      "Processing Record 29 of Set 9 | iranshahr\n",
      "Processing Record 30 of Set 9 | zeya\n",
      "Processing Record 31 of Set 9 | lindi\n",
      "Processing Record 32 of Set 9 | corrente\n",
      "Processing Record 33 of Set 9 | hovd\n",
      "Processing Record 34 of Set 9 | batemans bay\n",
      "Processing Record 35 of Set 9 | oistins\n",
      "Processing Record 36 of Set 9 | raudeberg\n",
      "Processing Record 37 of Set 9 | huilong\n",
      "Processing Record 38 of Set 9 | almaznyy\n",
      "Processing Record 39 of Set 9 | esperance\n",
      "Processing Record 40 of Set 9 | rantauprapat\n",
      "City not found. Skipping...\n",
      "City not found. Skipping...\n",
      "City not found. Skipping...\n",
      "Processing Record 41 of Set 9 | rumuruti\n",
      "Processing Record 42 of Set 9 | darhan\n",
      "Processing Record 43 of Set 9 | bilibino\n",
      "Processing Record 44 of Set 9 | andenes\n",
      "City not found. Skipping...\n",
      "Processing Record 45 of Set 9 | pimentel\n",
      "Processing Record 46 of Set 9 | inhambane\n",
      "Processing Record 47 of Set 9 | ostersund\n",
      "Processing Record 48 of Set 9 | numan\n",
      "Processing Record 49 of Set 9 | yarmouth\n",
      "Processing Record 50 of Set 9 | hinganghat\n",
      "Processing Record 0 of Set 10 | zhireken\n",
      "Processing Record 1 of Set 10 | evensk\n",
      "Processing Record 2 of Set 10 | maumere\n",
      "City not found. Skipping...\n",
      "Processing Record 3 of Set 10 | pacific grove\n",
      "Processing Record 4 of Set 10 | chimoio\n",
      "Processing Record 5 of Set 10 | buluang\n",
      "Processing Record 6 of Set 10 | diglur\n",
      "Processing Record 7 of Set 10 | ifakara\n",
      "Processing Record 8 of Set 10 | adjumani\n",
      "Processing Record 9 of Set 10 | eureka\n",
      "Processing Record 10 of Set 10 | houston\n",
      "Processing Record 11 of Set 10 | haimen\n",
      "Processing Record 12 of Set 10 | chiredzi\n",
      "Processing Record 13 of Set 10 | yurga\n",
      "Processing Record 14 of Set 10 | barcelos\n",
      "Processing Record 15 of Set 10 | mantua\n",
      "Processing Record 16 of Set 10 | jiangyou\n",
      "Processing Record 17 of Set 10 | tecoanapa\n",
      "City not found. Skipping...\n",
      "Processing Record 18 of Set 10 | chimbote\n",
      "City not found. Skipping...\n",
      "Processing Record 19 of Set 10 | meulaboh\n",
      "Processing Record 20 of Set 10 | mwene-ditu\n",
      "Processing Record 21 of Set 10 | nova olinda do norte\n",
      "Processing Record 22 of Set 10 | wattegama\n",
      "Processing Record 23 of Set 10 | qasigiannguit\n",
      "Processing Record 24 of Set 10 | ola\n",
      "Processing Record 25 of Set 10 | lorengau\n",
      "Processing Record 26 of Set 10 | bud\n",
      "Processing Record 27 of Set 10 | vila franca do campo\n",
      "Processing Record 28 of Set 10 | swan river\n",
      "Processing Record 29 of Set 10 | serabu\n",
      "Processing Record 30 of Set 10 | marystown\n",
      "Processing Record 31 of Set 10 | mizdah\n",
      "Processing Record 32 of Set 10 | aksarka\n",
      "Processing Record 33 of Set 10 | talaya\n",
      "Processing Record 34 of Set 10 | udachnyy\n",
      "Processing Record 35 of Set 10 | austin\n",
      "Processing Record 36 of Set 10 | fallon\n",
      "Processing Record 37 of Set 10 | kodiak\n",
      "Processing Record 38 of Set 10 | ouadda\n",
      "Processing Record 39 of Set 10 | comodoro rivadavia\n",
      "Processing Record 40 of Set 10 | esmeraldas\n",
      "Processing Record 41 of Set 10 | itoman\n",
      "City not found. Skipping...\n",
      "Processing Record 42 of Set 10 | great yarmouth\n",
      "Processing Record 43 of Set 10 | carballo\n",
      "Processing Record 44 of Set 10 | palauig\n",
      "Processing Record 45 of Set 10 | bourges\n",
      "Processing Record 46 of Set 10 | mao\n",
      "Processing Record 47 of Set 10 | mukhen\n",
      "Processing Record 48 of Set 10 | standerton\n",
      "Processing Record 49 of Set 10 | farrukhnagar\n",
      "Processing Record 50 of Set 10 | levelland\n",
      "Processing Record 0 of Set 11 | mitsamiouli\n",
      "City not found. Skipping...\n",
      "Processing Record 1 of Set 11 | cravo norte\n",
      "Processing Record 2 of Set 11 | svetlogorsk\n",
      "Processing Record 3 of Set 11 | tres arroyos\n",
      "City not found. Skipping...\n",
      "Processing Record 4 of Set 11 | rayong\n",
      "Processing Record 5 of Set 11 | kamiiso\n",
      "Processing Record 6 of Set 11 | chernyshevskiy\n",
      "Processing Record 7 of Set 11 | tumba\n",
      "Processing Record 8 of Set 11 | namibe\n",
      "Processing Record 9 of Set 11 | tual\n",
      "Processing Record 10 of Set 11 | burley\n",
      "Processing Record 11 of Set 11 | nizwa\n",
      "Processing Record 12 of Set 11 | honolulu\n",
      "Processing Record 13 of Set 11 | liwale\n",
      "Processing Record 14 of Set 11 | pangnirtung\n",
      "Processing Record 15 of Set 11 | wairoa\n",
      "Processing Record 16 of Set 11 | chokwe\n",
      "Processing Record 17 of Set 11 | college\n",
      "Processing Record 18 of Set 11 | bontang\n",
      "Processing Record 19 of Set 11 | pula\n",
      "Processing Record 20 of Set 11 | conceicao do araguaia\n",
      "City not found. Skipping...\n",
      "Processing Record 21 of Set 11 | keelung\n",
      "Processing Record 22 of Set 11 | nelson bay\n",
      "Processing Record 23 of Set 11 | kulhudhuffushi\n",
      "Processing Record 24 of Set 11 | norman wells\n",
      "Processing Record 25 of Set 11 | son la\n",
      "Processing Record 26 of Set 11 | tiznit\n",
      "Processing Record 27 of Set 11 | grand gaube\n",
      "Processing Record 28 of Set 11 | tateyama\n",
      "Processing Record 29 of Set 11 | namie\n",
      "Processing Record 30 of Set 11 | karlskoga\n",
      "Processing Record 31 of Set 11 | gibgos\n",
      "Processing Record 32 of Set 11 | vestmannaeyjar\n",
      "Processing Record 33 of Set 11 | alihe\n",
      "City not found. Skipping...\n",
      "Processing Record 34 of Set 11 | plainview\n",
      "Processing Record 35 of Set 11 | ixtlan\n",
      "Processing Record 36 of Set 11 | havelock\n",
      "Processing Record 37 of Set 11 | santa helena de goias\n",
      "Processing Record 38 of Set 11 | fuxin\n",
      "City not found. Skipping...\n",
      "Processing Record 39 of Set 11 | dongning\n",
      "Processing Record 40 of Set 11 | warri\n",
      "Processing Record 41 of Set 11 | tazovskiy\n",
      "Processing Record 42 of Set 11 | kuytun\n",
      "Processing Record 43 of Set 11 | shelburne\n",
      "Processing Record 44 of Set 11 | derzhavinsk\n",
      "-----------------------------\n",
      "Data Retrieval Complete\n",
      "-----------------------------\n"
     ]
    }
   ],
   "source": [
    "# Creating lists required for the dataframe\n",
    "city_2 = []\n",
    "lat = []\n",
    "lng = []\n",
    "max_temp = []\n",
    "humidity = []\n",
    "cloudiness = []\n",
    "wind_speed = []\n",
    "country = []\n",
    "date = []\n",
    "\n",
    "# Setting query URL and units to imperial\n",
    "measurement = \"imperial\"\n",
    "query_url = f\"http://api.openweathermap.org/data/2.5/weather?appid={weather_api_key}&units={measurement}&q=\"\n",
    "\n",
    "# Setting initial count for index and set\n",
    "index_counter = 0\n",
    "set_counter = 1\n",
    "\n",
    "print(\"-----------------------------\\nBeginning Data Retrieval\")\n",
    "\n",
    "# Collceting data for each city in cities list, then printing as per example\n",
    "for index, city in enumerate(cities, start = 1):\n",
    "    try:\n",
    "        response = requests.get(query_url + city).json()\n",
    "        city_2.append(response[\"name\"])\n",
    "        lat.append(response[\"coord\"][\"lat\"])\n",
    "        lng.append(response[\"coord\"][\"lon\"])\n",
    "        max_temp.append(response['main']['temp_max'])\n",
    "        humidity.append(response[\"main\"][\"humidity\"])\n",
    "        cloudiness.append(response[\"clouds\"][\"all\"])\n",
    "        wind_speed.append(response[\"wind\"][\"speed\"])\n",
    "        country.append(response[\"sys\"][\"country\"])\n",
    "        date.append(response[\"dt\"])\n",
    "        if index_counter > 49:\n",
    "            index_counter = 0\n",
    "            set_counter = set_counter + 1\n",
    "    \n",
    "        else:\n",
    "            index_counter = index_counter + 1\n",
    "            \n",
    "        print(f\"Processing Record {index_counter} of Set {set_counter} | {city}\") \n",
    "  \n",
    "    except(KeyError, IndexError):\n",
    "        print(\"City not found. Skipping...\")\n",
    "        \n",
    "print(\"-----------------------------\\nData Retrieval Complete\\n-----------------------------\")"
   ]
  },
  {
   "cell_type": "markdown",
   "metadata": {},
   "source": [
    "### Convert Raw Data to DataFrame\n",
    "* Export the city data into a .csv.\n",
    "* Display the DataFrame"
   ]
  },
  {
   "cell_type": "code",
   "execution_count": 50,
   "metadata": {},
   "outputs": [
    {
     "data": {
      "text/html": [
       "<div>\n",
       "<style scoped>\n",
       "    .dataframe tbody tr th:only-of-type {\n",
       "        vertical-align: middle;\n",
       "    }\n",
       "\n",
       "    .dataframe tbody tr th {\n",
       "        vertical-align: top;\n",
       "    }\n",
       "\n",
       "    .dataframe thead th {\n",
       "        text-align: right;\n",
       "    }\n",
       "</style>\n",
       "<table border=\"1\" class=\"dataframe\">\n",
       "  <thead>\n",
       "    <tr style=\"text-align: right;\">\n",
       "      <th></th>\n",
       "      <th>City</th>\n",
       "      <th>Lat</th>\n",
       "      <th>Lng</th>\n",
       "      <th>Max Temp</th>\n",
       "      <th>Humidity</th>\n",
       "      <th>Cloudiness</th>\n",
       "      <th>Wind Speed</th>\n",
       "      <th>Country</th>\n",
       "      <th>Date</th>\n",
       "    </tr>\n",
       "  </thead>\n",
       "  <tbody>\n",
       "    <tr>\n",
       "      <th>0</th>\n",
       "      <td>Okhotsk</td>\n",
       "      <td>59.3833</td>\n",
       "      <td>143.3000</td>\n",
       "      <td>-9.11</td>\n",
       "      <td>80</td>\n",
       "      <td>0</td>\n",
       "      <td>18.03</td>\n",
       "      <td>RU</td>\n",
       "      <td>1612055798</td>\n",
       "    </tr>\n",
       "    <tr>\n",
       "      <th>1</th>\n",
       "      <td>Portland</td>\n",
       "      <td>45.5234</td>\n",
       "      <td>-122.6762</td>\n",
       "      <td>48.99</td>\n",
       "      <td>81</td>\n",
       "      <td>90</td>\n",
       "      <td>12.66</td>\n",
       "      <td>US</td>\n",
       "      <td>1612055602</td>\n",
       "    </tr>\n",
       "    <tr>\n",
       "      <th>2</th>\n",
       "      <td>Port Alfred</td>\n",
       "      <td>-33.5906</td>\n",
       "      <td>26.8910</td>\n",
       "      <td>63.00</td>\n",
       "      <td>92</td>\n",
       "      <td>0</td>\n",
       "      <td>0.89</td>\n",
       "      <td>ZA</td>\n",
       "      <td>1612056001</td>\n",
       "    </tr>\n",
       "    <tr>\n",
       "      <th>3</th>\n",
       "      <td>Vaini</td>\n",
       "      <td>-21.2000</td>\n",
       "      <td>-175.2000</td>\n",
       "      <td>86.00</td>\n",
       "      <td>79</td>\n",
       "      <td>75</td>\n",
       "      <td>13.80</td>\n",
       "      <td>TO</td>\n",
       "      <td>1612055978</td>\n",
       "    </tr>\n",
       "    <tr>\n",
       "      <th>4</th>\n",
       "      <td>Butaritari</td>\n",
       "      <td>3.0707</td>\n",
       "      <td>172.7902</td>\n",
       "      <td>81.32</td>\n",
       "      <td>78</td>\n",
       "      <td>30</td>\n",
       "      <td>18.86</td>\n",
       "      <td>KI</td>\n",
       "      <td>1612055542</td>\n",
       "    </tr>\n",
       "  </tbody>\n",
       "</table>\n",
       "</div>"
      ],
      "text/plain": [
       "          City      Lat       Lng  Max Temp  Humidity  Cloudiness  Wind Speed  \\\n",
       "0      Okhotsk  59.3833  143.3000     -9.11        80           0       18.03   \n",
       "1     Portland  45.5234 -122.6762     48.99        81          90       12.66   \n",
       "2  Port Alfred -33.5906   26.8910     63.00        92           0        0.89   \n",
       "3        Vaini -21.2000 -175.2000     86.00        79          75       13.80   \n",
       "4   Butaritari   3.0707  172.7902     81.32        78          30       18.86   \n",
       "\n",
       "  Country        Date  \n",
       "0      RU  1612055798  \n",
       "1      US  1612055602  \n",
       "2      ZA  1612056001  \n",
       "3      TO  1612055978  \n",
       "4      KI  1612055542  "
      ]
     },
     "execution_count": 50,
     "metadata": {},
     "output_type": "execute_result"
    }
   ],
   "source": [
    "#Creating the dataframe to display the results\n",
    "city_weather_df = pd.DataFrame({ \n",
    "                \"City\" : city_2,\n",
    "                \"Lat\" : lat,\n",
    "                \"Lng\" : lng,\n",
    "                \"Max Temp\" : max_temp,\n",
    "                \"Humidity\" : humidity,\n",
    "                \"Cloudiness\" : cloudiness,\n",
    "                \"Wind Speed\" : wind_speed,\n",
    "                \"Country\" : country,\n",
    "                \"Date\" : date\n",
    "})\n",
    "\n",
    "city_weather_df.to_csv(output_data_file)\n",
    "\n",
    "# Showing the first five rows\n",
    "city_weather_df.head(5)"
   ]
  },
  {
   "cell_type": "code",
   "execution_count": 8,
   "metadata": {},
   "outputs": [
    {
     "data": {
      "text/html": [
       "<div>\n",
       "<style scoped>\n",
       "    .dataframe tbody tr th:only-of-type {\n",
       "        vertical-align: middle;\n",
       "    }\n",
       "\n",
       "    .dataframe tbody tr th {\n",
       "        vertical-align: top;\n",
       "    }\n",
       "\n",
       "    .dataframe thead th {\n",
       "        text-align: right;\n",
       "    }\n",
       "</style>\n",
       "<table border=\"1\" class=\"dataframe\">\n",
       "  <thead>\n",
       "    <tr style=\"text-align: right;\">\n",
       "      <th></th>\n",
       "      <th>Lat</th>\n",
       "      <th>Lng</th>\n",
       "      <th>Max Temp</th>\n",
       "      <th>Humidity</th>\n",
       "      <th>Cloudiness</th>\n",
       "      <th>Wind Speed</th>\n",
       "      <th>Date</th>\n",
       "    </tr>\n",
       "  </thead>\n",
       "  <tbody>\n",
       "    <tr>\n",
       "      <th>count</th>\n",
       "      <td>554.000000</td>\n",
       "      <td>554.000000</td>\n",
       "      <td>554.000000</td>\n",
       "      <td>554.000000</td>\n",
       "      <td>554.000000</td>\n",
       "      <td>554.000000</td>\n",
       "      <td>5.540000e+02</td>\n",
       "    </tr>\n",
       "    <tr>\n",
       "      <th>mean</th>\n",
       "      <td>19.959481</td>\n",
       "      <td>21.906095</td>\n",
       "      <td>47.796552</td>\n",
       "      <td>75.247292</td>\n",
       "      <td>52.736462</td>\n",
       "      <td>8.106949</td>\n",
       "      <td>1.612056e+09</td>\n",
       "    </tr>\n",
       "    <tr>\n",
       "      <th>std</th>\n",
       "      <td>33.412699</td>\n",
       "      <td>89.552984</td>\n",
       "      <td>33.742743</td>\n",
       "      <td>17.830786</td>\n",
       "      <td>42.022889</td>\n",
       "      <td>5.782097</td>\n",
       "      <td>2.957460e+02</td>\n",
       "    </tr>\n",
       "    <tr>\n",
       "      <th>min</th>\n",
       "      <td>-54.800000</td>\n",
       "      <td>-175.200000</td>\n",
       "      <td>-52.920000</td>\n",
       "      <td>13.000000</td>\n",
       "      <td>0.000000</td>\n",
       "      <td>0.310000</td>\n",
       "      <td>1.612055e+09</td>\n",
       "    </tr>\n",
       "    <tr>\n",
       "      <th>25%</th>\n",
       "      <td>-7.327150</td>\n",
       "      <td>-55.862050</td>\n",
       "      <td>26.600000</td>\n",
       "      <td>66.000000</td>\n",
       "      <td>1.000000</td>\n",
       "      <td>3.452500</td>\n",
       "      <td>1.612056e+09</td>\n",
       "    </tr>\n",
       "    <tr>\n",
       "      <th>50%</th>\n",
       "      <td>22.426100</td>\n",
       "      <td>24.807350</td>\n",
       "      <td>59.000000</td>\n",
       "      <td>79.000000</td>\n",
       "      <td>66.500000</td>\n",
       "      <td>6.910000</td>\n",
       "      <td>1.612056e+09</td>\n",
       "    </tr>\n",
       "    <tr>\n",
       "      <th>75%</th>\n",
       "      <td>48.634225</td>\n",
       "      <td>101.486025</td>\n",
       "      <td>74.595000</td>\n",
       "      <td>88.000000</td>\n",
       "      <td>98.000000</td>\n",
       "      <td>10.840000</td>\n",
       "      <td>1.612056e+09</td>\n",
       "    </tr>\n",
       "    <tr>\n",
       "      <th>max</th>\n",
       "      <td>78.218600</td>\n",
       "      <td>177.483300</td>\n",
       "      <td>98.600000</td>\n",
       "      <td>100.000000</td>\n",
       "      <td>100.000000</td>\n",
       "      <td>31.070000</td>\n",
       "      <td>1.612056e+09</td>\n",
       "    </tr>\n",
       "  </tbody>\n",
       "</table>\n",
       "</div>"
      ],
      "text/plain": [
       "              Lat         Lng    Max Temp    Humidity  Cloudiness  Wind Speed  \\\n",
       "count  554.000000  554.000000  554.000000  554.000000  554.000000  554.000000   \n",
       "mean    19.959481   21.906095   47.796552   75.247292   52.736462    8.106949   \n",
       "std     33.412699   89.552984   33.742743   17.830786   42.022889    5.782097   \n",
       "min    -54.800000 -175.200000  -52.920000   13.000000    0.000000    0.310000   \n",
       "25%     -7.327150  -55.862050   26.600000   66.000000    1.000000    3.452500   \n",
       "50%     22.426100   24.807350   59.000000   79.000000   66.500000    6.910000   \n",
       "75%     48.634225  101.486025   74.595000   88.000000   98.000000   10.840000   \n",
       "max     78.218600  177.483300   98.600000  100.000000  100.000000   31.070000   \n",
       "\n",
       "               Date  \n",
       "count  5.540000e+02  \n",
       "mean   1.612056e+09  \n",
       "std    2.957460e+02  \n",
       "min    1.612055e+09  \n",
       "25%    1.612056e+09  \n",
       "50%    1.612056e+09  \n",
       "75%    1.612056e+09  \n",
       "max    1.612056e+09  "
      ]
     },
     "execution_count": 8,
     "metadata": {},
     "output_type": "execute_result"
    }
   ],
   "source": [
    "# Displaying dataframe count, mean, std, min, 25%, 50%, 75% and max for each variable\n",
    "city_weather_df.describe()"
   ]
  },
  {
   "cell_type": "markdown",
   "metadata": {},
   "source": [
    "## Inspect the data and remove the cities where the humidity > 100%.\n",
    "----\n",
    "Skip this step if there are no cities that have humidity > 100%. "
   ]
  },
  {
   "cell_type": "code",
   "execution_count": 9,
   "metadata": {},
   "outputs": [
    {
     "data": {
      "text/plain": [
       "City          0\n",
       "Lat           0\n",
       "Lng           0\n",
       "Max Temp      0\n",
       "Humidity      0\n",
       "Cloudiness    0\n",
       "Wind Speed    0\n",
       "Country       0\n",
       "Date          0\n",
       "dtype: int64"
      ]
     },
     "execution_count": 9,
     "metadata": {},
     "output_type": "execute_result"
    }
   ],
   "source": [
    "# Checking that no cities with >100% humidity exist\n",
    "city_weather_df[city_weather_df[\"Humidity\"] > 100].count()"
   ]
  },
  {
   "cell_type": "code",
   "execution_count": 17,
   "metadata": {},
   "outputs": [
    {
     "data": {
      "text/plain": [
       "Int64Index([], dtype='int64')"
      ]
     },
     "execution_count": 17,
     "metadata": {},
     "output_type": "execute_result"
    }
   ],
   "source": [
    "# SKIP"
   ]
  },
  {
   "cell_type": "code",
   "execution_count": 19,
   "metadata": {},
   "outputs": [
    {
     "data": {
      "text/html": [
       "<div>\n",
       "<style scoped>\n",
       "    .dataframe tbody tr th:only-of-type {\n",
       "        vertical-align: middle;\n",
       "    }\n",
       "\n",
       "    .dataframe tbody tr th {\n",
       "        vertical-align: top;\n",
       "    }\n",
       "\n",
       "    .dataframe thead th {\n",
       "        text-align: right;\n",
       "    }\n",
       "</style>\n",
       "<table border=\"1\" class=\"dataframe\">\n",
       "  <thead>\n",
       "    <tr style=\"text-align: right;\">\n",
       "      <th></th>\n",
       "      <th>City</th>\n",
       "      <th>Lat</th>\n",
       "      <th>Lng</th>\n",
       "      <th>Max Temp</th>\n",
       "      <th>Humidity</th>\n",
       "      <th>Cloudiness</th>\n",
       "      <th>Wind Speed</th>\n",
       "      <th>Country</th>\n",
       "      <th>Date</th>\n",
       "    </tr>\n",
       "  </thead>\n",
       "  <tbody>\n",
       "    <tr>\n",
       "      <td>0</td>\n",
       "      <td>butaritari</td>\n",
       "      <td>3.07</td>\n",
       "      <td>172.79</td>\n",
       "      <td>83.32</td>\n",
       "      <td>74</td>\n",
       "      <td>84</td>\n",
       "      <td>10.42</td>\n",
       "      <td>KI</td>\n",
       "      <td>1593605283</td>\n",
       "    </tr>\n",
       "    <tr>\n",
       "      <td>1</td>\n",
       "      <td>yerbogachen</td>\n",
       "      <td>61.28</td>\n",
       "      <td>108.01</td>\n",
       "      <td>79.52</td>\n",
       "      <td>58</td>\n",
       "      <td>20</td>\n",
       "      <td>7.70</td>\n",
       "      <td>RU</td>\n",
       "      <td>1593605121</td>\n",
       "    </tr>\n",
       "    <tr>\n",
       "      <td>2</td>\n",
       "      <td>cape town</td>\n",
       "      <td>-33.93</td>\n",
       "      <td>18.42</td>\n",
       "      <td>73.00</td>\n",
       "      <td>77</td>\n",
       "      <td>27</td>\n",
       "      <td>4.70</td>\n",
       "      <td>ZA</td>\n",
       "      <td>1593605039</td>\n",
       "    </tr>\n",
       "    <tr>\n",
       "      <td>3</td>\n",
       "      <td>touba</td>\n",
       "      <td>8.28</td>\n",
       "      <td>-7.68</td>\n",
       "      <td>79.97</td>\n",
       "      <td>75</td>\n",
       "      <td>82</td>\n",
       "      <td>3.58</td>\n",
       "      <td>CI</td>\n",
       "      <td>1593605284</td>\n",
       "    </tr>\n",
       "    <tr>\n",
       "      <td>4</td>\n",
       "      <td>jamestown</td>\n",
       "      <td>42.10</td>\n",
       "      <td>-79.24</td>\n",
       "      <td>64.00</td>\n",
       "      <td>88</td>\n",
       "      <td>1</td>\n",
       "      <td>6.93</td>\n",
       "      <td>US</td>\n",
       "      <td>1593605284</td>\n",
       "    </tr>\n",
       "  </tbody>\n",
       "</table>\n",
       "</div>"
      ],
      "text/plain": [
       "          City    Lat     Lng  Max Temp  Humidity  Cloudiness  Wind Speed  \\\n",
       "0   butaritari   3.07  172.79     83.32        74          84       10.42   \n",
       "1  yerbogachen  61.28  108.01     79.52        58          20        7.70   \n",
       "2    cape town -33.93   18.42     73.00        77          27        4.70   \n",
       "3        touba   8.28   -7.68     79.97        75          82        3.58   \n",
       "4    jamestown  42.10  -79.24     64.00        88           1        6.93   \n",
       "\n",
       "  Country        Date  \n",
       "0      KI  1593605283  \n",
       "1      RU  1593605121  \n",
       "2      ZA  1593605039  \n",
       "3      CI  1593605284  \n",
       "4      US  1593605284  "
      ]
     },
     "execution_count": 19,
     "metadata": {},
     "output_type": "execute_result"
    }
   ],
   "source": [
    "# SKIP"
   ]
  },
  {
   "cell_type": "code",
   "execution_count": null,
   "metadata": {},
   "outputs": [],
   "source": [
    "# SKIP"
   ]
  },
  {
   "cell_type": "markdown",
   "metadata": {},
   "source": [
    "## Plotting the Data\n",
    "* Use proper labeling of the plots using plot titles (including date of analysis) and axes labels.\n",
    "* Save the plotted figures as .pngs."
   ]
  },
  {
   "cell_type": "markdown",
   "metadata": {},
   "source": [
    "## Latitude vs. Temperature Plot"
   ]
  },
  {
   "cell_type": "code",
   "execution_count": 12,
   "metadata": {
    "scrolled": true
   },
   "outputs": [
    {
     "data": {
      "image/png": "[encoded data removed]",
      "text/plain": [
       "<Figure size 432x288 with 1 Axes>"
      ]
     },
     "metadata": {
      "needs_background": "light"
     },
     "output_type": "display_data"
    }
   ],
   "source": [
    "# Creating the scatter plot and setting formatting to match example\n",
    "plt.scatter(city_weather_df[\"Lat\"], city_weather_df[\"Max Temp\"], facecolor = \"steelblue\", edgecolor = \"black\")\n",
    "\n",
    "# Setting chart title\n",
    "plt.title(\"City Latitude vs. Max Temperature (01/30/21)\")\n",
    "\n",
    "# Setting x axis label name\n",
    "plt.xlabel(\"Latitude\")\n",
    "\n",
    "# Setting y axis label name\n",
    "plt.ylabel(\"Max Temperature (F)\")\n",
    "\n",
    "# Setting grid lines\n",
    "plt.grid(linestyle='-', linewidth=1, alpha = 0.5)\n",
    "\n",
    "# Saving the plotted figure as a .png file to output_data folder\n",
    "plt.savefig(\"../output_data/City Latitude vs Max Temperature.png\")"
   ]
  },
  {
   "cell_type": "markdown",
   "metadata": {},
   "source": [
    "#### The code is analyzing at what latitude does the temperature start dropping, with it being winter the further north you go the colder it gets"
   ]
  },
  {
   "cell_type": "markdown",
   "metadata": {},
   "source": [
    "## Latitude vs. Humidity Plot"
   ]
  },
  {
   "cell_type": "code",
   "execution_count": 13,
   "metadata": {},
   "outputs": [
    {
     "data": {
      "image/png": "[encoded data removed]",
      "text/plain": [
       "<Figure size 432x288 with 1 Axes>"
      ]
     },
     "metadata": {
      "needs_background": "light"
     },
     "output_type": "display_data"
    }
   ],
   "source": [
    "# Creating the scatter plot and setting formatting to match example\n",
    "plt.scatter(city_weather_df[\"Lat\"], city_weather_df[\"Humidity\"], facecolor = \"steelblue\", edgecolor = \"black\")\n",
    "\n",
    "# Setting chart title\n",
    "plt.title(\"City Latitude vs. Humidity (01/30/21)\")\n",
    "\n",
    "# Setting x axis label name\n",
    "plt.xlabel(\"Latitude\")\n",
    "\n",
    "# Setting y axis label name\n",
    "plt.ylabel(\"Humidity (%)\")\n",
    "\n",
    "# Setting grid lines\n",
    "plt.grid(linestyle='-', linewidth=1, alpha = 0.5)\n",
    "\n",
    "# Saving the plotted figure as a .png file to output_data folder\n",
    "plt.savefig(\"../output_data/City Latitude vs Humidity.png\")"
   ]
  },
  {
   "cell_type": "markdown",
   "metadata": {},
   "source": [
    "#### The code is analyzing at what latitudes is it more humid at this time of the year, the picture would be quite different the summer in both extremes but would be relatively static closer to the equator"
   ]
  },
  {
   "cell_type": "markdown",
   "metadata": {},
   "source": [
    "## Latitude vs. Cloudiness Plot"
   ]
  },
  {
   "cell_type": "code",
   "execution_count": 14,
   "metadata": {},
   "outputs": [
    {
     "data": {
      "image/png": "[encoded data removed]",
      "text/plain": [
       "<Figure size 432x288 with 1 Axes>"
      ]
     },
     "metadata": {
      "needs_background": "light"
     },
     "output_type": "display_data"
    }
   ],
   "source": [
    "# Creating the scatter plot and setting formatting to match example\n",
    "plt.scatter(city_weather_df[\"Lat\"], city_weather_df[\"Cloudiness\"], facecolor = \"steelblue\", edgecolor = \"black\")\n",
    "\n",
    "# Setting chart title\n",
    "plt.title(\"City Latitude vs. Cloudiness (01/30/21)\")\n",
    "\n",
    "# Setting x axis label name\n",
    "plt.xlabel(\"Latitude\")\n",
    "\n",
    "# Setting y axis label name\n",
    "plt.ylabel(\"Cloudiness (%)\")\n",
    "\n",
    "# Setting grid lines\n",
    "plt.grid(linestyle='-', linewidth=1, alpha = 0.5)\n",
    "\n",
    "# Saving the plotted figure as a .png file to output_data folder\n",
    "plt.savefig(\"../output_data/City Latitude vs Cloudiness.png\")"
   ]
  },
  {
   "cell_type": "markdown",
   "metadata": {},
   "source": [
    "#### The code is analyzing at what latitudes is it cloudier, which is spread evenly"
   ]
  },
  {
   "cell_type": "markdown",
   "metadata": {},
   "source": [
    "## Latitude vs. Wind Speed Plot"
   ]
  },
  {
   "cell_type": "code",
   "execution_count": 15,
   "metadata": {},
   "outputs": [
    {
     "data": {
      "image/png": "[encoded data removed]",
      "text/plain": [
       "<Figure size 432x288 with 1 Axes>"
      ]
     },
     "metadata": {
      "needs_background": "light"
     },
     "output_type": "display_data"
    }
   ],
   "source": [
    "# Creating the scatter plot and setting formatting to match example\n",
    "plt.scatter(city_weather_df[\"Lat\"], city_weather_df[\"Wind Speed\"], facecolor = \"steelblue\", edgecolor = \"black\")\n",
    "\n",
    "# Setting chart title\n",
    "plt.title(\"City Latitude vs. Wind Speed (01/30/21)\")\n",
    "\n",
    "# Setting x axis label name\n",
    "plt.xlabel(\"Latitude\")\n",
    "\n",
    "# Setting y axis label name\n",
    "plt.ylabel(\"Wind Speed (mph)\")\n",
    "\n",
    "# Setting grid lines\n",
    "plt.grid(linestyle='-', linewidth=1, alpha = 0.5)\n",
    "\n",
    "# Saving the plotted figure as a .png file to output_data folder\n",
    "plt.savefig(\"../output_data/City Latitude vs Wind Speed.png\")"
   ]
  },
  {
   "cell_type": "markdown",
   "metadata": {},
   "source": [
    "#### The code is analyzing at what latitudes is the wind speed the highest, it is fairly evenly spread but some extremiities in northern latitudes"
   ]
  },
  {
   "cell_type": "markdown",
   "metadata": {},
   "source": [
    "## Linear Regression"
   ]
  },
  {
   "cell_type": "code",
   "execution_count": 20,
   "metadata": {},
   "outputs": [],
   "source": [
    "# Creating dataframes for northern and southern hemispheres\n",
    "northern_hemisphere = city_weather_df.loc[city_weather_df[\"Lat\"] >= 0]\n",
    "southern_hemisphere = city_weather_df.loc[city_weather_df[\"Lat\"] < 0]\n",
    "\n",
    "\n",
    "# Creating function that can be called for linear regression plot including x label and annotation\n",
    "def plt_linear_regression(x_values, y_values, y_labelname, text_coordinates):\n",
    "    (slope, intercept, rvalue, pvalue, stderr) = linregress(x_values, y_values)\n",
    "    regress_values = x_values * slope + intercept\n",
    "    line_eq = \"y = \" + str(round(slope,2)) + \"x + \" + str(round(intercept,2))\n",
    "    \n",
    "    plt.scatter(x_values,y_values)\n",
    "    plt.plot(x_values,regress_values,\"r-\")\n",
    "    plt.annotate(line_eq,text_coordinates,fontsize=14,color=\"red\")\n",
    "    plt.xlabel(\"Latitude\")\n",
    "    plt.ylabel(y_labelname)\n",
    "    print(f\"The r-value is: {rvalue}\")\n",
    "    plt.show()"
   ]
  },
  {
   "cell_type": "markdown",
   "metadata": {},
   "source": [
    "####  Northern Hemisphere - Max Temp vs. Latitude Linear Regression"
   ]
  },
  {
   "cell_type": "code",
   "execution_count": 24,
   "metadata": {},
   "outputs": [
    {
     "name": "stdout",
     "output_type": "stream",
     "text": [
      "The r-value is: -0.8638135311805368\n"
     ]
    },
    {
     "data": {
      "image/png": "[encoded data removed]",
      "text/plain": [
       "<Figure size 432x288 with 1 Axes>"
      ]
     },
     "metadata": {
      "needs_background": "light"
     },
     "output_type": "display_data"
    },
    {
     "data": {
      "text/plain": [
       "<Figure size 432x288 with 0 Axes>"
      ]
     },
     "metadata": {},
     "output_type": "display_data"
    }
   ],
   "source": [
    "# Setting axis values\n",
    "x_values = northern_hemisphere[\"Lat\"]\n",
    "y_values = northern_hemisphere[\"Max Temp\"]\n",
    "\n",
    "#Drawing graph and defining y label name and text coordinates\n",
    "plt_linear_regression(x_values,y_values, \"Max Temp\", (0,-50))\n",
    "\n",
    "plt.savefig(\"../output_data/Northern Hemisphere - Max Temp vs Latitude Linear Regression.png\")"
   ]
  },
  {
   "cell_type": "markdown",
   "metadata": {},
   "source": [
    "#### The correlation between latitude and temperature is negative, i.e. the further from the equator you are the colder it is "
   ]
  },
  {
   "cell_type": "markdown",
   "metadata": {},
   "source": [
    "####  Southern Hemisphere - Max Temp vs. Latitude Linear Regression"
   ]
  },
  {
   "cell_type": "code",
   "execution_count": 27,
   "metadata": {},
   "outputs": [
    {
     "name": "stdout",
     "output_type": "stream",
     "text": [
      "The r-value is: 0.5077403157851456\n"
     ]
    },
    {
     "data": {
      "image/png": "[encoded data removed]",
      "text/plain": [
       "<Figure size 432x288 with 1 Axes>"
      ]
     },
     "metadata": {
      "needs_background": "light"
     },
     "output_type": "display_data"
    },
    {
     "data": {
      "text/plain": [
       "<Figure size 432x288 with 0 Axes>"
      ]
     },
     "metadata": {},
     "output_type": "display_data"
    }
   ],
   "source": [
    "# Setting axis values\n",
    "x_values = southern_hemisphere[\"Lat\"]\n",
    "y_values = southern_hemisphere[\"Max Temp\"]\n",
    "\n",
    "#Drawing graph and defining y label name and text coordinates\n",
    "plt_linear_regression(x_values,y_values, \"Max Temp\", (-55,95))\n",
    "\n",
    "plt.savefig(\"../output_data/Southern Hemisphere - Max Temp vs Latitude Linear Regression.png\")"
   ]
  },
  {
   "cell_type": "markdown",
   "metadata": {},
   "source": [
    "#### The correlation between latitude and temperature is positive, i.e. the closer to the equator you are the warmer it gets"
   ]
  },
  {
   "cell_type": "markdown",
   "metadata": {},
   "source": [
    "####  Northern Hemisphere - Humidity (%) vs. Latitude Linear Regression"
   ]
  },
  {
   "cell_type": "code",
   "execution_count": 31,
   "metadata": {},
   "outputs": [
    {
     "name": "stdout",
     "output_type": "stream",
     "text": [
      "The r-value is: 0.29452793795919135\n"
     ]
    },
    {
     "data": {
      "image/png": "[encoded data removed]",
      "text/plain": [
       "<Figure size 432x288 with 1 Axes>"
      ]
     },
     "metadata": {
      "needs_background": "light"
     },
     "output_type": "display_data"
    },
    {
     "data": {
      "text/plain": [
       "<Figure size 432x288 with 0 Axes>"
      ]
     },
     "metadata": {},
     "output_type": "display_data"
    }
   ],
   "source": [
    "# Setting axis values\n",
    "x_values = northern_hemisphere[\"Lat\"]\n",
    "y_values = northern_hemisphere[\"Humidity\"]\n",
    "\n",
    "#Drawing graph and defining y label name and text coordinates\n",
    "plt_linear_regression(x_values,y_values, \"Humidity\", (40,15))\n",
    "\n",
    "plt.savefig(\"../output_data/Northern Hemisphere - Humidity vs Latitude Linear Regression.png\")"
   ]
  },
  {
   "cell_type": "markdown",
   "metadata": {},
   "source": [
    "#### The correlation between latitude and humidity is positive, i.e. it is more certainly humid the further away from the equator you are"
   ]
  },
  {
   "cell_type": "markdown",
   "metadata": {},
   "source": [
    "####  Southern Hemisphere - Humidity (%) vs. Latitude Linear Regression"
   ]
  },
  {
   "cell_type": "code",
   "execution_count": 33,
   "metadata": {},
   "outputs": [
    {
     "name": "stdout",
     "output_type": "stream",
     "text": [
      "The r-value is: 0.3476582810556823\n"
     ]
    },
    {
     "data": {
      "image/png": "[encoded data removed]",
      "text/plain": [
       "<Figure size 432x288 with 1 Axes>"
      ]
     },
     "metadata": {
      "needs_background": "light"
     },
     "output_type": "display_data"
    },
    {
     "data": {
      "text/plain": [
       "<Figure size 432x288 with 0 Axes>"
      ]
     },
     "metadata": {},
     "output_type": "display_data"
    }
   ],
   "source": [
    "# Setting axis values\n",
    "x_values = southern_hemisphere[\"Lat\"]\n",
    "y_values = southern_hemisphere[\"Humidity\"]\n",
    "\n",
    "#Drawing graph and defining y label name and text coordinates\n",
    "plt_linear_regression(x_values,y_values, \"Humidity\", (-55,20))\n",
    "\n",
    "plt.savefig(\"../output_data/Southern Hemisphere - Humidity vs Latitude Linear Regression.png\")"
   ]
  },
  {
   "cell_type": "markdown",
   "metadata": {},
   "source": [
    "#### The correlation between latitude and humidity is positive, i.e. the closer to the equator you are the more certainly is it humid"
   ]
  },
  {
   "cell_type": "markdown",
   "metadata": {},
   "source": [
    "####  Northern Hemisphere - Cloudiness (%) vs. Latitude Linear Regression"
   ]
  },
  {
   "cell_type": "code",
   "execution_count": 37,
   "metadata": {},
   "outputs": [
    {
     "name": "stdout",
     "output_type": "stream",
     "text": [
      "The r-value is: 0.2245808881446803\n"
     ]
    },
    {
     "data": {
      "image/png": "[encoded data removed]",
      "text/plain": [
       "<Figure size 432x288 with 1 Axes>"
      ]
     },
     "metadata": {
      "needs_background": "light"
     },
     "output_type": "display_data"
    },
    {
     "data": {
      "text/plain": [
       "<Figure size 432x288 with 0 Axes>"
      ]
     },
     "metadata": {},
     "output_type": "display_data"
    }
   ],
   "source": [
    "# Setting axis values\n",
    "x_values = northern_hemisphere[\"Lat\"]\n",
    "y_values = northern_hemisphere[\"Cloudiness\"]\n",
    "\n",
    "#Drawing graph and defining y label name and text coordinates\n",
    "plt_linear_regression(x_values,y_values, \"Cloudiness\", (45,30))\n",
    "\n",
    "plt.savefig(\"../output_data/Northern Hemisphere - Cloudiness vs Latitude Linear Regression.png\")"
   ]
  },
  {
   "cell_type": "markdown",
   "metadata": {},
   "source": [
    "#### The correlation between latitude and cloudiness is positive, i.e. it is cloudier the further away from the equator you are "
   ]
  },
  {
   "cell_type": "markdown",
   "metadata": {},
   "source": [
    "####  Southern Hemisphere - Cloudiness (%) vs. Latitude Linear Regression"
   ]
  },
  {
   "cell_type": "code",
   "execution_count": 42,
   "metadata": {},
   "outputs": [
    {
     "name": "stdout",
     "output_type": "stream",
     "text": [
      "The r-value is: 0.3766857506455504\n"
     ]
    },
    {
     "data": {
      "image/png": "[encoded data removed]",
      "text/plain": [
       "<Figure size 432x288 with 1 Axes>"
      ]
     },
     "metadata": {
      "needs_background": "light"
     },
     "output_type": "display_data"
    },
    {
     "data": {
      "text/plain": [
       "<Figure size 432x288 with 0 Axes>"
      ]
     },
     "metadata": {},
     "output_type": "display_data"
    }
   ],
   "source": [
    "# Setting axis values\n",
    "x_values = southern_hemisphere[\"Lat\"]\n",
    "y_values = southern_hemisphere[\"Cloudiness\"]\n",
    "\n",
    "#Drawing graph and defining y label name and text coordinates\n",
    "plt_linear_regression(x_values,y_values, \"Cloudiness\", (-55,60))\n",
    "\n",
    "plt.savefig(\"../output_data/Southern Hemisphere - Cloudiness vs Latitude Linear Regression.png\")"
   ]
  },
  {
   "cell_type": "markdown",
   "metadata": {},
   "source": [
    "#### The correlation between latitude and cloudiness is positive, i.e. it is cloudier the closer to the equator you are"
   ]
  },
  {
   "cell_type": "markdown",
   "metadata": {},
   "source": [
    "####  Northern Hemisphere - Wind Speed (mph) vs. Latitude Linear Regression"
   ]
  },
  {
   "cell_type": "code",
   "execution_count": 44,
   "metadata": {},
   "outputs": [
    {
     "name": "stdout",
     "output_type": "stream",
     "text": [
      "The r-value is: 0.06449471985330174\n"
     ]
    },
    {
     "data": {
      "image/png": "[encoded data removed]",
      "text/plain": [
       "<Figure size 432x288 with 1 Axes>"
      ]
     },
     "metadata": {
      "needs_background": "light"
     },
     "output_type": "display_data"
    },
    {
     "data": {
      "text/plain": [
       "<Figure size 432x288 with 0 Axes>"
      ]
     },
     "metadata": {},
     "output_type": "display_data"
    }
   ],
   "source": [
    "# Setting axis values\n",
    "x_values = northern_hemisphere[\"Lat\"]\n",
    "y_values = northern_hemisphere[\"Wind Speed\"]\n",
    "\n",
    "#Drawing graph and defining y label name and text coordinates\n",
    "plt_linear_regression(x_values,y_values, \"Wind Speed\", (0,30))\n",
    "\n",
    "plt.savefig(\"../output_data/Northern Hemisphere - Wind Speed vs Latitude Linear Regression.png\")"
   ]
  },
  {
   "cell_type": "markdown",
   "metadata": {},
   "source": [
    "#### There is little correlation between latitude and wind speed, i.e. it is almost as windy everywhere regardless of latitude with some high peaks in northern latitudes"
   ]
  },
  {
   "cell_type": "markdown",
   "metadata": {},
   "source": [
    "####  Southern Hemisphere - Wind Speed (mph) vs. Latitude Linear Regression"
   ]
  },
  {
   "cell_type": "code",
   "execution_count": 46,
   "metadata": {},
   "outputs": [
    {
     "name": "stdout",
     "output_type": "stream",
     "text": [
      "The r-value is: -0.2129159178027845\n"
     ]
    },
    {
     "data": {
      "image/png": "[encoded data removed]",
      "text/plain": [
       "<Figure size 432x288 with 1 Axes>"
      ]
     },
     "metadata": {
      "needs_background": "light"
     },
     "output_type": "display_data"
    },
    {
     "data": {
      "text/plain": [
       "<Figure size 432x288 with 0 Axes>"
      ]
     },
     "metadata": {},
     "output_type": "display_data"
    }
   ],
   "source": [
    "# Setting axis values\n",
    "x_values = southern_hemisphere[\"Lat\"]\n",
    "y_values = southern_hemisphere[\"Wind Speed\"]\n",
    "\n",
    "#Drawing graph and defining y label name and text coordinates\n",
    "plt_linear_regression(x_values,y_values, \"Wind Speed\", (-50,25))\n",
    "\n",
    "plt.savefig(\"../output_data/Southern Hemisphere - Wind Speed vs Latitude Linear Regression.png\")"
   ]
  },
  {
   "cell_type": "markdown",
   "metadata": {},
   "source": [
    "#### There is a negative correlation between latitude and wind speed, i.e. the closer to equator you are, the less windy it is"
   ]
  }
 ],
 "metadata": {
  "anaconda-cloud": {},
  "kernel_info": {
   "name": "python3"
  },
  "kernelspec": {
   "display_name": "Python 3",
   "language": "python",
   "name": "python3"
  },
  "language_info": {
   "codemirror_mode": {
    "name": "ipython",
    "version": 3
   },
   "file_extension": ".py",
   "mimetype": "text/x-python",
   "name": "python",
   "nbconvert_exporter": "python",
   "pygments_lexer": "ipython3",
   "version": "3.8.3"
  },
  "latex_envs": {
   "LaTeX_envs_menu_present": true,
   "autoclose": false,
   "autocomplete": true,
   "bibliofile": "biblio.bib",
   "cite_by": "apalike",
   "current_citInitial": 1,
   "eqLabelWithNumbers": true,
   "eqNumInitial": 1,
   "hotkeys": {
    "equation": "Ctrl-E",
    "itemize": "Ctrl-I"
   },
   "labels_anchors": false,
   "latex_user_defs": false,
   "report_style_numbering": false,
   "user_envs_cfg": false
  },
  "nteract": {
   "version": "0.12.3"
  }
 },
 "nbformat": 4,
 "nbformat_minor": 2
}
